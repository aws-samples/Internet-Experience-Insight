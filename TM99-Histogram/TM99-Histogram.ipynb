{
 "cells": [
  {
   "cell_type": "markdown",
   "id": "e628cd34",
   "metadata": {
    "tags": []
   },
   "source": [
    "# CloudFront 性能指标和分布统计演示\n",
    "\n",
    "该Python代码主要使用了CloudFront日志 / pandas / scipy / matplotlib 进行数据收集 / 整理 / 计算 / 展现，提供了TM99 / PR99 等指标，以及直方图展现"
   ]
  },
  {
   "cell_type": "markdown",
   "id": "7acc9cde-0185-474e-991f-3841ab7a1c26",
   "metadata": {
    "tags": []
   },
   "source": [
    "### 引入相关库，访问参数设置"
   ]
  },
  {
   "cell_type": "code",
   "execution_count": null,
   "id": "70075232-8caa-4abe-ad45-d03d48ff1062",
   "metadata": {},
   "outputs": [],
   "source": [
    "#! /bin/sh\n",
    "\n",
    "! pip install pandasql\n",
    "! pip install configparser\n",
    "\n",
    "import boto3\n",
    "import time\n",
    "import sys                                        \n",
    "import math                                       \n",
    "import json\n",
    "import pandas as pd\n",
    "import pandasql as ps\n",
    "from configparser import ConfigParser\n",
    "from scipy.stats import pearsonr\n",
    "from sklearn.ensemble import RandomForestRegressor\n",
    "from scipy import stats\n",
    "import numpy as np\n",
    "import matplotlib\n",
    "from matplotlib import pyplot as plt\n",
    "import seaborn as sns\n",
    "from matplotlib.ticker import PercentFormatter\n"
   ]
  },
  {
   "cell_type": "code",
   "execution_count": 2,
   "id": "b947cfd7",
   "metadata": {},
   "outputs": [],
   "source": [
    "\n",
    "ak = '<access key>'\n",
    "sk = '<security key>'\n"
   ]
  },
  {
   "cell_type": "markdown",
   "id": "988d2984-a341-4166-8eb4-e0cd01365607",
   "metadata": {
    "tags": []
   },
   "source": [
    "### 通过AWS SDK -- S3/Athena API 收集CloudFront日志"
   ]
  },
  {
   "cell_type": "code",
   "execution_count": null,
   "id": "d2e7f715",
   "metadata": {},
   "outputs": [],
   "source": [
    "\n",
    "Session_list = []\n",
    "\n",
    "\n",
    "sql_query_traffic = \"\\\n",
    "select time_taken,time_to_first_byte,x_edge_detailed_result_type \\\n",
    "    from \\\"my_cloudfront_logs\\\" \\\n",
    "    where year = 2023 and month = 10 and day = 17 and hour = 11 AND host = '<domain name>' \\\n",
    ";\"\n",
    "\n",
    "\n",
    "client_athena = boto3.client(\n",
    "            'athena', \n",
    "            region_name = 'us-east-1',\n",
    "            aws_access_key_id = ak,\n",
    "            aws_secret_access_key = sk\n",
    "          ) \n",
    "\n",
    "response = client_athena.start_query_execution(\n",
    "            QueryString= sql_query_traffic,\n",
    "            QueryExecutionContext={\n",
    "                'Database': 'default'\n",
    "            },\n",
    "            ResultConfiguration={\n",
    "                'OutputLocation': 's3://<athena-query-result-folder>/'\n",
    "                },\n",
    "            WorkGroup='primary'\n",
    "          )\n",
    "\n",
    "QEid = response[\"QueryExecutionId\"]\n",
    "            \n",
    "\n",
    "print(QEid)\n",
    "\n",
    "  \n",
    "\n",
    "\n",
    " "
   ]
  },
  {
   "cell_type": "code",
   "execution_count": 22,
   "id": "2e51f320",
   "metadata": {},
   "outputs": [],
   "source": [
    "time.sleep(240)\n",
    "\n",
    "client_s3 = boto3.client(\n",
    "        's3',\n",
    "        aws_access_key_id = ak,\n",
    "        aws_secret_access_key = sk,\n",
    "    )\n",
    "\n",
    "\n",
    "\n",
    "client_s3.download_file('<athena-query-result-folder>', '%s.csv'%(QEid), '/<local-folder>/perf_1.csv')\n",
    "  "
   ]
  },
  {
   "cell_type": "markdown",
   "id": "7aec7c89",
   "metadata": {},
   "source": [
    "### 将数据放入dataframe数据结构中"
   ]
  },
  {
   "cell_type": "code",
   "execution_count": null,
   "id": "4f59fb26",
   "metadata": {},
   "outputs": [],
   "source": [
    "frames = []\n",
    "\n",
    "pd.set_option('display.max_rows',None)\n",
    "pd.set_option('display.max_columns',None)\n",
    "pd.set_option('display.width',5000)\n",
    "pd.set_option('display.max_colwidth', None)\n",
    "    \n",
    "\n",
    "result_raw = pd.read_csv('/<local-folder>/perf_1.csv')\n",
    "result_raw.head(10)"
   ]
  },
  {
   "cell_type": "markdown",
   "id": "7390b13a-f9a2-433f-9fca-96b2c1acf139",
   "metadata": {},
   "source": [
    "### 通过scipy进行指标计算"
   ]
  },
  {
   "cell_type": "code",
   "execution_count": 65,
   "id": "ad0f62ea-85ca-4a92-866a-21e978a6f612",
   "metadata": {},
   "outputs": [],
   "source": [
    "result = result_raw\n",
    "n = result.count().time_to_first_byte\n",
    "\n",
    "df_tm99 = stats.mstats.trimmed_mean(result['time_to_first_byte'],limits=(0,0.01)).round(3)\n",
    "df_avg = stats.mstats.trimmed_mean(result['time_to_first_byte'],limits=(0,0)).round(3)\n",
    "df_p10 = stats.scoreatpercentile(result['time_to_first_byte'], 10)\n",
    "df_p50 = stats.scoreatpercentile(result['time_to_first_byte'], 50)\n",
    "df_p90 = stats.scoreatpercentile(result['time_to_first_byte'], 90)\n",
    "df_p99 = stats.scoreatpercentile(result['time_to_first_byte'], 99)\n",
    "df_pr1 = stats.percentileofscore(result['time_to_first_byte'], 1, kind='strict')\n",
    "\n",
    "dfs = {'p10': df_p10, 'p50': df_p50,'p90': df_p90,'p99': df_p99,'avg': df_avg,'tm99': df_tm99, 'PR(:1s)':df_pr1,'count': n}\n",
    "df = pd.DataFrame(dfs, index=['metric'])\n",
    "print(df)"
   ]
  },
  {
   "cell_type": "markdown",
   "id": "c8bb34f3-e7cf-4f2d-9543-b960bd4fbab6",
   "metadata": {},
   "source": [
    "### 通过matplot绘制直方图"
   ]
  },
  {
   "cell_type": "code",
   "execution_count": null,
   "id": "5cad9ad3-3b25-4f54-a528-8def9b4dc1ab",
   "metadata": {},
   "outputs": [],
   "source": [
    "data = result['time_to_first_byte']*1000\n",
    "data.hist(bins=25, grid=False, figsize=(20,10), color='#86bf91', zorder=2, rwidth=0.9, range=[0,500],xlabelsize=15,ylabelsize=15,legend='true',weights=np.ones(len(result)) / len(result))\n",
    "plt.xticks(range(0, 500, 20))\n",
    "plt.title('fbl distribution')\n",
    "plt.show()"
   ]
  },
  {
   "cell_type": "code",
   "execution_count": null,
   "id": "77546231-c625-4bf9-b4cd-0040a615f504",
   "metadata": {},
   "outputs": [],
   "source": [
    "data_miss = result_raw[result_raw['x_edge_detailed_result_type']=='Miss']\n",
    "data_miss = data_miss['time_to_first_byte']*1000\n",
    "data_miss.hist(bins=25, grid=False, figsize=(20,10), color='#86bf91', zorder=2, rwidth=0.9, range=[0,1000],xlabelsize=15,ylabelsize=15,legend='true',weights=np.ones(len(data_miss)) / len(data_miss))\n",
    "plt.xticks(range(0, 1000, 50))\n",
    "plt.title('fbl_Miss distribution')\n",
    "plt.show()"
   ]
  },
  {
   "cell_type": "code",
   "execution_count": null,
   "id": "64926c33-5699-4efa-80ba-4e698820e23c",
   "metadata": {},
   "outputs": [],
   "source": []
  }
 ],
 "metadata": {
  "celltoolbar": "Raw Cell Format",
  "kernelspec": {
   "display_name": "conda_python3",
   "language": "python",
   "name": "conda_python3"
  },
  "language_info": {
   "codemirror_mode": {
    "name": "ipython",
    "version": 3
   },
   "file_extension": ".py",
   "mimetype": "text/x-python",
   "name": "python",
   "nbconvert_exporter": "python",
   "pygments_lexer": "ipython3",
   "version": "3.8.12"
  }
 },
 "nbformat": 4,
 "nbformat_minor": 5
}
