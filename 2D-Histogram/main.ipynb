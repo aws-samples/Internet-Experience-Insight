{
 "cells": [
  {
   "cell_type": "markdown",
   "metadata": {},
   "source": [
    "# Import necessary module"
   ]
  },
  {
   "cell_type": "code",
   "execution_count": 1,
   "metadata": {},
   "outputs": [],
   "source": [
    "import pandas as pd\n",
    "import numpy as np\n",
    "import random\n",
    "from datetime import datetime, timedelta, timezone\n",
    "from timeframe_histogram import plot_histogram\n",
    "from timeframe_histogram import plot_timestamp_vline\n",
    "from timeframe_histogram import plot_metrics_1\n",
    "import matplotlib.pyplot as plt\n",
    "import pytz\n",
    "import pandasql as ps"
   ]
  },
  {
   "cell_type": "markdown",
   "metadata": {},
   "source": [
    "# import the dataframe"
   ]
  },
  {
   "cell_type": "code",
   "execution_count": 90,
   "metadata": {},
   "outputs": [],
   "source": [
    "frames = []\n",
    "Date_list =  ['20240806','20240807']\n",
    "\n",
    "for Date in Date_list:\n",
    "        long_data = pd.read_csv('metric_%s.csv'%(Date))\n",
    "        frames.append(long_data)\n",
    "    \n",
    "df = pd.concat(frames)"
   ]
  },
  {
   "cell_type": "code",
   "execution_count": null,
   "metadata": {},
   "outputs": [],
   "source": [
    "# df = long_data = pd.read_csv('metric_ap-southeast-1_20240806.csv')\n",
    "\n",
    "\n",
    "df['response_fbl_ms'] = df['response_fbl']*1000\n",
    "# df['ns'] = df_sort['datetime'].dt.values.astype('int64') // 10**9\n",
    "# df_sort['datetime_timestamp'] = df_sort['datetime'].apply(lambda x: x.timestamp())\n",
    "# df = df.set_index('timestamp')\n",
    "\n",
    "df.info()"
   ]
  },
  {
   "cell_type": "code",
   "execution_count": null,
   "metadata": {},
   "outputs": [],
   "source": [
    "df.head()"
   ]
  },
  {
   "cell_type": "markdown",
   "metadata": {},
   "source": [
    "# Create Histogram"
   ]
  },
  {
   "cell_type": "code",
   "execution_count": null,
   "metadata": {},
   "outputs": [],
   "source": [
    "hour_1 = '00'\n",
    "hour_2 = '17'\n",
    "date = '20240806'\n",
    "\n",
    "\n",
    "\n",
    "\n",
    "result_1 = ps.sqldf(\n",
    "    \"select response_fbl_ms \\\n",
    "    from df where date = '%s' and hour = '%s' \" %(date,hour_1)\n",
    ")\n",
    "result_2 = ps.sqldf(\n",
    "    \"select response_fbl_ms \\\n",
    "    from df where date = '%s' and hour = '%s' \" %(date,hour_2)\n",
    ")\n"
   ]
  },
  {
   "cell_type": "code",
   "execution_count": null,
   "metadata": {},
   "outputs": [],
   "source": [
    "fig, (ax1, ax2) = plt.subplots(nrows=1, ncols=2, figsize=(12, 4))\n",
    "fig.suptitle('fbl distribution')\n",
    "result_1.hist(ax=ax1,bins=100, grid=False, color='#86bf91', zorder=2, rwidth=0.9, range=[10,1000],xlabelsize=10,ylabelsize=15,legend='true',log=True)\n",
    "ax1.set_title('Histogram of hour_1')\n",
    "ax1.set_xticks(range(10, 1000, 200))\n",
    "result_2.hist(ax=ax2,bins=100, grid=False, color='#86bf91', zorder=2, rwidth=0.9, range=[10,1000],xlabelsize=10,ylabelsize=15,legend='true',log=True)\n",
    "ax2.set_title('Histogram of hour_2')\n",
    "ax2.set_xticks(range(10, 1000, 200))\n",
    "\n",
    "\n",
    "# result.hist(bins=100, grid=False, figsize=(20,10), color='#86bf91', zorder=2, rwidth=0.9, range=[0,1000],xlabelsize=10,ylabelsize=15,legend='true',weights=np.ones(len(result)) / len(result))\n",
    "# result.hist(bins=100, grid=False, figsize=(20,10), color='#86bf91', zorder=2, rwidth=0.9, range=[0,1000],xlabelsize=10,ylabelsize=15,legend='true',log=True)\n",
    "# plt.xticks(range(0, 1000, 20))\n",
    "# plt.title('fbl distribution')"
   ]
  },
  {
   "cell_type": "markdown",
   "metadata": {},
   "source": [
    "# Create TimeFrame Histogram"
   ]
  },
  {
   "cell_type": "code",
   "execution_count": null,
   "metadata": {},
   "outputs": [],
   "source": [
    "vline_begin = '2024-08-06 11:00:00'\n",
    "vline_end = '2024-08-06 16:59:59'\n",
    "\n",
    "title = 'fbl'\n",
    "metric = 'response_fbl_ms'\n",
    "\n",
    "fig, subplots = plt.subplots(nrows=1,ncols=1,figsize=(20,10), constrained_layout=True)\n",
    "ax = subplots\n",
    "\n",
    "plot_histogram(fig, ax, df, title, metric, ylim=[1,1000],datetime_field = \"timestamp\")\n",
    "\n",
    "plot_timestamp_vline(ax, vline_begin)\n",
    "plot_timestamp_vline(ax, vline_end)\n",
    "\n",
    "\n",
    "fig2, subplots2 = plt.subplots(nrows=1,ncols=1,figsize=(20,10), constrained_layout=True)\n",
    "ax2 = subplots2\n",
    "plot_metrics_1(ax2, df, metric, resample_size='1min', stats=[\"P50\", \"P90\", \"P99\", \"TM99\", \"n\"], datetime_field = \"timestamp\")\n",
    "\n",
    "# plot_metrics_1(ax, df, metric, resample_size='1min', stats=[\"P50\", \"P90\", \"P99\", \"TM99\", \"n\"],datetime_field='DateTime')\n",
    "# plot_metrics_1(ax, df, metric, resample_size='1min', stats=[\"n\"])"
   ]
  }
 ],
 "metadata": {
  "kernelspec": {
   "display_name": ".venv",
   "language": "python",
   "name": "python3"
  },
  "language_info": {
   "codemirror_mode": {
    "name": "ipython",
    "version": 3
   },
   "file_extension": ".py",
   "mimetype": "text/x-python",
   "name": "python",
   "nbconvert_exporter": "python",
   "pygments_lexer": "ipython3",
   "version": "3.12.6"
  }
 },
 "nbformat": 4,
 "nbformat_minor": 2
}
